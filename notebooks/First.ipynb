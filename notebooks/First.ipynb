{
 "cells": [
  {
   "cell_type": "code",
   "execution_count": 1,
   "id": "8e2a180d-f51f-45fa-86b5-a9ae2582507f",
   "metadata": {},
   "outputs": [],
   "source": [
    "import pandas as pd\n",
    "import numpy as np \n",
    "import seaborn as sns \n",
    "import matplotlib.pyplot as plt \n",
    "import matplotlib_inline"
   ]
  },
  {
   "cell_type": "code",
   "execution_count": 2,
   "id": "5216c85d-dc92-470d-9370-68aae8634a31",
   "metadata": {},
   "outputs": [
    {
     "data": {
      "text/html": [
       "<div>\n",
       "<style scoped>\n",
       "    .dataframe tbody tr th:only-of-type {\n",
       "        vertical-align: middle;\n",
       "    }\n",
       "\n",
       "    .dataframe tbody tr th {\n",
       "        vertical-align: top;\n",
       "    }\n",
       "\n",
       "    .dataframe thead th {\n",
       "        text-align: right;\n",
       "    }\n",
       "</style>\n",
       "<table border=\"1\" class=\"dataframe\">\n",
       "  <thead>\n",
       "    <tr style=\"text-align: right;\">\n",
       "      <th></th>\n",
       "      <th>day</th>\n",
       "      <th>month</th>\n",
       "      <th>year</th>\n",
       "      <th>Temperature</th>\n",
       "      <th>RH</th>\n",
       "      <th>Ws</th>\n",
       "      <th>Rain</th>\n",
       "      <th>FFMC</th>\n",
       "      <th>DMC</th>\n",
       "      <th>DC</th>\n",
       "      <th>ISI</th>\n",
       "      <th>BUI</th>\n",
       "      <th>FWI</th>\n",
       "      <th>Classes</th>\n",
       "    </tr>\n",
       "  </thead>\n",
       "  <tbody>\n",
       "    <tr>\n",
       "      <th>0</th>\n",
       "      <td>1</td>\n",
       "      <td>6</td>\n",
       "      <td>2012</td>\n",
       "      <td>29</td>\n",
       "      <td>57</td>\n",
       "      <td>18</td>\n",
       "      <td>0.0</td>\n",
       "      <td>65.7</td>\n",
       "      <td>3.4</td>\n",
       "      <td>7.6</td>\n",
       "      <td>1.3</td>\n",
       "      <td>3.4</td>\n",
       "      <td>0.5</td>\n",
       "      <td>not fire</td>\n",
       "    </tr>\n",
       "    <tr>\n",
       "      <th>1</th>\n",
       "      <td>2</td>\n",
       "      <td>6</td>\n",
       "      <td>2012</td>\n",
       "      <td>29</td>\n",
       "      <td>61</td>\n",
       "      <td>13</td>\n",
       "      <td>1.3</td>\n",
       "      <td>64.4</td>\n",
       "      <td>4.1</td>\n",
       "      <td>7.6</td>\n",
       "      <td>1.0</td>\n",
       "      <td>3.9</td>\n",
       "      <td>0.4</td>\n",
       "      <td>not fire</td>\n",
       "    </tr>\n",
       "    <tr>\n",
       "      <th>2</th>\n",
       "      <td>3</td>\n",
       "      <td>6</td>\n",
       "      <td>2012</td>\n",
       "      <td>26</td>\n",
       "      <td>82</td>\n",
       "      <td>22</td>\n",
       "      <td>13.1</td>\n",
       "      <td>47.1</td>\n",
       "      <td>2.5</td>\n",
       "      <td>7.1</td>\n",
       "      <td>0.3</td>\n",
       "      <td>2.7</td>\n",
       "      <td>0.1</td>\n",
       "      <td>not fire</td>\n",
       "    </tr>\n",
       "  </tbody>\n",
       "</table>\n",
       "</div>"
      ],
      "text/plain": [
       "   day  month  year  Temperature   RH   Ws  Rain   FFMC  DMC   DC  ISI  BUI  \\\n",
       "0    1      6  2012           29   57   18    0.0  65.7  3.4  7.6  1.3  3.4   \n",
       "1    2      6  2012           29   61   13    1.3  64.4  4.1  7.6  1.0  3.9   \n",
       "2    3      6  2012           26   82   22   13.1  47.1  2.5  7.1  0.3  2.7   \n",
       "\n",
       "   FWI    Classes    \n",
       "0  0.5  not fire     \n",
       "1  0.4  not fire     \n",
       "2  0.1  not fire     "
      ]
     },
     "execution_count": 2,
     "metadata": {},
     "output_type": "execute_result"
    }
   ],
   "source": [
    "df =pd.read_csv('Algerian_forest_fires_dataset_UPDATE.csv')\n",
    "df.head(3)"
   ]
  },
  {
   "cell_type": "code",
   "execution_count": 3,
   "id": "50261d73-9220-45a8-9193-afa9ffed6e7e",
   "metadata": {},
   "outputs": [
    {
     "name": "stdout",
     "output_type": "stream",
     "text": [
      "<class 'pandas.core.frame.DataFrame'>\n",
      "RangeIndex: 244 entries, 0 to 243\n",
      "Data columns (total 14 columns):\n",
      " #   Column       Non-Null Count  Dtype  \n",
      "---  ------       --------------  -----  \n",
      " 0   day          244 non-null    int64  \n",
      " 1   month        244 non-null    int64  \n",
      " 2   year         244 non-null    int64  \n",
      " 3   Temperature  244 non-null    int64  \n",
      " 4    RH          244 non-null    int64  \n",
      " 5    Ws          244 non-null    int64  \n",
      " 6   Rain         244 non-null    float64\n",
      " 7   FFMC         244 non-null    float64\n",
      " 8   DMC          244 non-null    float64\n",
      " 9   DC           244 non-null    object \n",
      " 10  ISI          244 non-null    float64\n",
      " 11  BUI          244 non-null    float64\n",
      " 12  FWI          244 non-null    object \n",
      " 13  Classes      243 non-null    object \n",
      "dtypes: float64(5), int64(6), object(3)\n",
      "memory usage: 26.8+ KB\n"
     ]
    }
   ],
   "source": [
    "df.info()"
   ]
  },
  {
   "cell_type": "code",
   "execution_count": 4,
   "id": "5f7df6b9-22bf-41ea-a695-e35d7a3c0d11",
   "metadata": {},
   "outputs": [
    {
     "data": {
      "text/plain": [
       "day            0\n",
       "month          0\n",
       "year           0\n",
       "Temperature    0\n",
       " RH            0\n",
       " Ws            0\n",
       "Rain           0\n",
       "FFMC           0\n",
       "DMC            0\n",
       "DC             0\n",
       "ISI            0\n",
       "BUI            0\n",
       "FWI            0\n",
       "Classes        1\n",
       "dtype: int64"
      ]
     },
     "execution_count": 4,
     "metadata": {},
     "output_type": "execute_result"
    }
   ],
   "source": [
    "df.isnull().sum()"
   ]
  },
  {
   "cell_type": "code",
   "execution_count": 5,
   "id": "f6c2be87-d111-44cb-9657-0af10bd17ed5",
   "metadata": {},
   "outputs": [
    {
     "data": {
      "text/plain": [
       "Index(['day', 'month', 'year', 'Temperature', ' RH', ' Ws', 'Rain ', 'FFMC',\n",
       "       'DMC', 'DC', 'ISI', 'BUI', 'FWI', 'Classes  '],\n",
       "      dtype='object')"
      ]
     },
     "execution_count": 5,
     "metadata": {},
     "output_type": "execute_result"
    }
   ],
   "source": [
    "df.columns"
   ]
  },
  {
   "cell_type": "code",
   "execution_count": 6,
   "id": "07526552-e60a-4af0-a637-d07b0614afe9",
   "metadata": {},
   "outputs": [],
   "source": [
    "df.columns = df.columns.str.strip()"
   ]
  },
  {
   "cell_type": "code",
   "execution_count": 7,
   "id": "553145bb-dfdb-4e30-ba13-667775b18fb3",
   "metadata": {},
   "outputs": [
    {
     "data": {
      "text/plain": [
       "Index(['day', 'month', 'year', 'Temperature', 'RH', 'Ws', 'Rain', 'FFMC',\n",
       "       'DMC', 'DC', 'ISI', 'BUI', 'FWI', 'Classes'],\n",
       "      dtype='object')"
      ]
     },
     "execution_count": 7,
     "metadata": {},
     "output_type": "execute_result"
    }
   ],
   "source": [
    "df.columns"
   ]
  },
  {
   "cell_type": "code",
   "execution_count": 8,
   "id": "ae32044b-c04c-43a6-b495-b45e08766045",
   "metadata": {},
   "outputs": [],
   "source": [
    "df.dropna().reset_index(inplace=True)"
   ]
  },
  {
   "cell_type": "code",
   "execution_count": 9,
   "id": "5df33893-bccd-4520-9166-8af503d96fdd",
   "metadata": {},
   "outputs": [
    {
     "data": {
      "text/plain": [
       "array(['not fire   ', 'fire   ', 'fire', 'fire ', 'not fire', 'not fire ',\n",
       "       'not fire     ', nan, 'not fire    '], dtype=object)"
      ]
     },
     "execution_count": 9,
     "metadata": {},
     "output_type": "execute_result"
    }
   ],
   "source": [
    "df.Classes.unique()"
   ]
  },
  {
   "cell_type": "code",
   "execution_count": 10,
   "id": "c37bfade-6ac2-4a69-aa62-89d704be1cf9",
   "metadata": {},
   "outputs": [],
   "source": [
    "df.dropna(inplace=True)"
   ]
  },
  {
   "cell_type": "code",
   "execution_count": 11,
   "id": "626482c9-168e-46a6-9228-19314ed0dc14",
   "metadata": {},
   "outputs": [],
   "source": [
    "df['Classes'] =  np.where(df['Classes'].str.contains('not fire'), 0,1)"
   ]
  },
  {
   "cell_type": "code",
   "execution_count": 12,
   "id": "bc391a5f-7f6c-42b2-b68e-38d5d5f55214",
   "metadata": {},
   "outputs": [
    {
     "name": "stdout",
     "output_type": "stream",
     "text": [
      "<class 'pandas.core.frame.DataFrame'>\n",
      "Int64Index: 243 entries, 0 to 243\n",
      "Data columns (total 14 columns):\n",
      " #   Column       Non-Null Count  Dtype  \n",
      "---  ------       --------------  -----  \n",
      " 0   day          243 non-null    int64  \n",
      " 1   month        243 non-null    int64  \n",
      " 2   year         243 non-null    int64  \n",
      " 3   Temperature  243 non-null    int64  \n",
      " 4   RH           243 non-null    int64  \n",
      " 5   Ws           243 non-null    int64  \n",
      " 6   Rain         243 non-null    float64\n",
      " 7   FFMC         243 non-null    float64\n",
      " 8   DMC          243 non-null    float64\n",
      " 9   DC           243 non-null    object \n",
      " 10  ISI          243 non-null    float64\n",
      " 11  BUI          243 non-null    float64\n",
      " 12  FWI          243 non-null    object \n",
      " 13  Classes      243 non-null    int64  \n",
      "dtypes: float64(5), int64(7), object(2)\n",
      "memory usage: 28.5+ KB\n"
     ]
    }
   ],
   "source": [
    "df.info()"
   ]
  },
  {
   "cell_type": "code",
   "execution_count": 13,
   "id": "9d4a6ae1-a820-4022-be02-32c6f2b8844c",
   "metadata": {},
   "outputs": [],
   "source": [
    " objects = [obj for obj in df.columns if df[obj].dtype == 'O']"
   ]
  },
  {
   "cell_type": "code",
   "execution_count": 14,
   "id": "29111267-28be-425e-a352-071e4d757539",
   "metadata": {},
   "outputs": [],
   "source": [
    "for i in objects:\n",
    "    df[i] = df[i].astype(float)"
   ]
  },
  {
   "cell_type": "code",
   "execution_count": 15,
   "id": "4d838c68-eda8-4df8-a8c4-ce38085cabb5",
   "metadata": {},
   "outputs": [],
   "source": [
    "df.to_csv('Algerian_forest_fires_dataset_cleaned.csv' , index=False)"
   ]
  },
  {
   "cell_type": "code",
   "execution_count": 16,
   "id": "17d8b1fa-49e9-4f39-934f-6605628f8c92",
   "metadata": {},
   "outputs": [],
   "source": [
    "New_df = df.drop(['day', 'month', 'year'] , axis=1 )"
   ]
  },
  {
   "cell_type": "code",
   "execution_count": null,
   "id": "0d0376a9-f191-4aa8-908d-39fe650e2e6b",
   "metadata": {},
   "outputs": [],
   "source": []
  },
  {
   "cell_type": "code",
   "execution_count": 17,
   "id": "80fad2ab-3cdb-4579-9b20-06ce9244d777",
   "metadata": {},
   "outputs": [
    {
     "data": {
      "text/plain": [
       "(243, 11)"
      ]
     },
     "execution_count": 17,
     "metadata": {},
     "output_type": "execute_result"
    }
   ],
   "source": [
    "New_df.shape"
   ]
  },
  {
   "cell_type": "code",
   "execution_count": 18,
   "id": "599f2429-07de-46ff-889d-6fa0e8ba1828",
   "metadata": {},
   "outputs": [
    {
     "data": {
      "image/png": "[encoded data removed]",
      "text/plain": [
       "<Figure size 2000x1800 with 12 Axes>"
      ]
     },
     "metadata": {},
     "output_type": "display_data"
    }
   ],
   "source": [
    "# plt.style.use( 'Seaborn' )\n",
    "New_df.hist(bins=40, figsize=(20, 18))\n",
    "plt.show()"
   ]
  },
  {
   "cell_type": "code",
   "execution_count": null,
   "id": "4e5c80fc-61fd-4e64-a9d5-e3f47dbff6fb",
   "metadata": {},
   "outputs": [],
   "source": []
  },
  {
   "cell_type": "markdown",
   "id": "a019aaff-26e7-44bc-9898-5a5436b5910b",
   "metadata": {},
   "source": [
    "## selecting the dependent and independent feature "
   ]
  },
  {
   "cell_type": "code",
   "execution_count": 19,
   "id": "73f3f8b4-3f32-43ee-a5cb-974ac83ca854",
   "metadata": {},
   "outputs": [
    {
     "data": {
      "text/plain": [
       "Index(['Temperature', 'RH', 'Ws', 'Rain', 'FFMC', 'DMC', 'DC', 'ISI', 'BUI',\n",
       "       'FWI', 'Classes'],\n",
       "      dtype='object')"
      ]
     },
     "execution_count": 19,
     "metadata": {},
     "output_type": "execute_result"
    }
   ],
   "source": [
    "New_df.columns"
   ]
  },
  {
   "cell_type": "code",
   "execution_count": 34,
   "id": "e219fb77-7295-4fb3-9836-3512a02c9523",
   "metadata": {},
   "outputs": [],
   "source": [
    "X = New_df.drop('FWI', axis=1) # independent Feature \n",
    "y = New_df['FWI']  # dependent Feature "
   ]
  },
  {
   "cell_type": "markdown",
   "id": "03f377d6-70d6-4ddc-866d-101832759365",
   "metadata": {},
   "source": [
    "## Split The data "
   ]
  },
  {
   "cell_type": "code",
   "execution_count": 35,
   "id": "9f5bfac2-285e-4ac2-86ce-c0fda298b154",
   "metadata": {},
   "outputs": [],
   "source": [
    "from sklearn.model_selection import train_test_split"
   ]
  },
  {
   "cell_type": "code",
   "execution_count": 36,
   "id": "95584216-f9d1-413e-ba41-0e905acdfba6",
   "metadata": {},
   "outputs": [],
   "source": [
    "X_train, X_test, y_train, y_test = train_test_split(X,y, test_size=0.30, random_state=12)"
   ]
  },
  {
   "cell_type": "code",
   "execution_count": 37,
   "id": "10a65c24-96b4-4005-bdc5-0dc5c2409749",
   "metadata": {},
   "outputs": [
    {
     "data": {
      "text/plain": [
       "((170, 10), (73, 10), (170,), (73,))"
      ]
     },
     "execution_count": 37,
     "metadata": {},
     "output_type": "execute_result"
    }
   ],
   "source": [
    "X_train.shape, X_test.shape, y_train.shape, y_test.shape"
   ]
  },
  {
   "cell_type": "code",
   "execution_count": null,
   "id": "fc542040-34e4-433a-ad64-a6b51e7c88dc",
   "metadata": {},
   "outputs": [],
   "source": []
  },
  {
   "cell_type": "markdown",
   "id": "8be37264-8bcd-479a-b4d7-4141a9187ca4",
   "metadata": {},
   "source": [
    "## Scaling the Data "
   ]
  },
  {
   "cell_type": "code",
   "execution_count": 38,
   "id": "fa926854-9452-42ab-a947-fff2576bacfd",
   "metadata": {},
   "outputs": [],
   "source": [
    "from sklearn.preprocessing import StandardScaler"
   ]
  },
  {
   "cell_type": "code",
   "execution_count": 39,
   "id": "8c351c1b-306e-4214-a9f3-39e9ae659b63",
   "metadata": {},
   "outputs": [],
   "source": [
    "scaler = StandardScaler()"
   ]
  },
  {
   "cell_type": "code",
   "execution_count": 40,
   "id": "be110293-eeba-4aab-b322-c84a813d41fb",
   "metadata": {},
   "outputs": [],
   "source": [
    "X_train_scale = scaler.fit_transform(X_train)\n",
    "X_test_scale = scaler.transform(X_test)"
   ]
  },
  {
   "cell_type": "code",
   "execution_count": null,
   "id": "7b247d36-553f-4c77-aa0b-8b1502468e8e",
   "metadata": {},
   "outputs": [],
   "source": []
  },
  {
   "cell_type": "markdown",
   "id": "35c9479b-1ae6-4bf6-9404-1726a880b92e",
   "metadata": {},
   "source": [
    "## Traning the model "
   ]
  },
  {
   "cell_type": "code",
   "execution_count": 41,
   "id": "47e68402-4a08-43aa-8719-7a9901a886db",
   "metadata": {},
   "outputs": [],
   "source": [
    "from sklearn.linear_model import LinearRegression"
   ]
  },
  {
   "cell_type": "code",
   "execution_count": 42,
   "id": "c8c5328b-e8a9-41e7-87f3-4cffe203e711",
   "metadata": {},
   "outputs": [],
   "source": [
    "reg = LinearRegression()"
   ]
  },
  {
   "cell_type": "code",
   "execution_count": 80,
   "id": "4fe1b47f-93ab-40c5-a9f2-fb2535bf4e8f",
   "metadata": {},
   "outputs": [],
   "source": [
    "Model = reg.fit(X_train, y_train)"
   ]
  },
  {
   "cell_type": "code",
   "execution_count": 44,
   "id": "42f1b2b0-9339-44f8-b16e-d8f7192aa516",
   "metadata": {},
   "outputs": [],
   "source": [
    "model_pridiction = Model.predict(X_test)"
   ]
  },
  {
   "cell_type": "code",
   "execution_count": null,
   "id": "f7617612-c51a-4c91-b7b8-c3076a79ccd2",
   "metadata": {},
   "outputs": [],
   "source": []
  },
  {
   "cell_type": "markdown",
   "id": "c2708647-737c-4466-a80a-995a35b39426",
   "metadata": {},
   "source": [
    "## Checking the Accuracy and mean squard error "
   ]
  },
  {
   "cell_type": "code",
   "execution_count": 46,
   "id": "501b961a-a805-4ae4-aa21-f9cf56e3c286",
   "metadata": {},
   "outputs": [],
   "source": [
    "from sklearn.metrics import r2_score, mean_squared_error"
   ]
  },
  {
   "cell_type": "code",
   "execution_count": 49,
   "id": "c4516c88-43b3-440b-afb8-4cc8abfd9a8b",
   "metadata": {},
   "outputs": [],
   "source": [
    "Score = r2_score(model_pridiction, y_test)\n",
    "mse_Lin_Model = mean_squared_error(model_pridiction, y_test)"
   ]
  },
  {
   "cell_type": "code",
   "execution_count": 50,
   "id": "4ceac459-6e8e-45ee-b757-f95f10b9ad97",
   "metadata": {},
   "outputs": [
    {
     "data": {
      "text/plain": [
       "(0.9410067190093864, 3.960651058260759)"
      ]
     },
     "execution_count": 50,
     "metadata": {},
     "output_type": "execute_result"
    }
   ],
   "source": [
    "Score, mse_Lin_Model"
   ]
  },
  {
   "cell_type": "code",
   "execution_count": null,
   "id": "260247df-a8ff-44f5-8498-febddb3bc503",
   "metadata": {},
   "outputs": [],
   "source": []
  },
  {
   "cell_type": "markdown",
   "id": "e221575e-a51e-49d5-ada4-1e9180f0da6d",
   "metadata": {},
   "source": [
    "## Now we are applying the ridge model "
   ]
  },
  {
   "cell_type": "code",
   "execution_count": 52,
   "id": "81dbf6a4-b124-4208-b1c8-bb4111555e42",
   "metadata": {},
   "outputs": [],
   "source": [
    "from sklearn.linear_model import Ridge"
   ]
  },
  {
   "cell_type": "code",
   "execution_count": 59,
   "id": "b753f94e-32a8-49de-89dc-8be08a3df8cd",
   "metadata": {},
   "outputs": [],
   "source": [
    "ridge = Ridge()\n",
    "ridge_model = ridge.fit(X_train, y_train)\n",
    "ridge_model_predict = ridge.predict(X_test)\n",
    "\n",
    "# finding the score \n",
    "Score_ridge = r2_score(ridge_model_predict, y_test)\n",
    "mse_ridge = mean_squared_error(ridge_model_predict,y_test)"
   ]
  },
  {
   "cell_type": "code",
   "execution_count": 60,
   "id": "f9a8652f-cec1-4277-8e10-46603de214fc",
   "metadata": {},
   "outputs": [
    {
     "data": {
      "text/plain": [
       "(0.9410650566291459, 3.954589740005274)"
      ]
     },
     "execution_count": 60,
     "metadata": {},
     "output_type": "execute_result"
    }
   ],
   "source": [
    "Score_ridge, mse_ridge"
   ]
  },
  {
   "cell_type": "code",
   "execution_count": null,
   "id": "5263357a-8fd2-4d24-a6a2-225c0c036404",
   "metadata": {},
   "outputs": [],
   "source": []
  },
  {
   "cell_type": "markdown",
   "id": "ac624494-6616-46a6-890b-fd22c3ead941",
   "metadata": {},
   "source": [
    "## Now we are applying the Lasso model"
   ]
  },
  {
   "cell_type": "code",
   "execution_count": 63,
   "id": "a98ad864-0697-4368-98fa-f74aa92f3238",
   "metadata": {},
   "outputs": [],
   "source": [
    "from sklearn.linear_model import Lasso"
   ]
  },
  {
   "cell_type": "code",
   "execution_count": 64,
   "id": "62e7905b-6bc1-4920-9536-c2169730a7a2",
   "metadata": {},
   "outputs": [],
   "source": [
    "lasso = Lasso()\n",
    "lasso_model = lasso.fit(X_train, y_train)\n",
    "lasso_model_predict = lasso_model.predict(X_test)\n",
    "\n",
    "# finding the score \n",
    "Score_Lasso = r2_score(Lasso_model_predict, y_test)\n",
    "mse_Lasso = mean_squared_error(Lasso_model_predict,y_test)"
   ]
  },
  {
   "cell_type": "code",
   "execution_count": 65,
   "id": "0446bd7f-f0c0-43ba-a261-944294e53963",
   "metadata": {},
   "outputs": [
    {
     "data": {
      "text/plain": [
       "(0.9461832322600743, 3.326557329742619)"
      ]
     },
     "execution_count": 65,
     "metadata": {},
     "output_type": "execute_result"
    }
   ],
   "source": [
    "Score_Lasso, mse_Lasso"
   ]
  },
  {
   "cell_type": "code",
   "execution_count": null,
   "id": "6f90eda7-7765-4231-a33a-ffb69dcc909e",
   "metadata": {},
   "outputs": [],
   "source": []
  },
  {
   "cell_type": "markdown",
   "id": "958748cb-28b8-4d67-8c9d-42c7692c7df3",
   "metadata": {},
   "source": [
    "## Now we are applying the ElasticNet model"
   ]
  },
  {
   "cell_type": "code",
   "execution_count": 70,
   "id": "11842271-6ce2-46f8-9c3c-8ba3fb091222",
   "metadata": {},
   "outputs": [],
   "source": [
    "from sklearn.linear_model import ElasticNet"
   ]
  },
  {
   "cell_type": "code",
   "execution_count": 75,
   "id": "77a12368-bd41-4fc9-93d7-06dae5aa00f4",
   "metadata": {},
   "outputs": [],
   "source": [
    "elastic = ElasticNet()\n",
    "elastic_model = elastic.fit(X_train,y_train)\n",
    "elastic_model_predict = elastic_model.predict(X_test)\n",
    "\n",
    "# finding the score \n",
    "Score_elastic = r2_score(elastic_model_predict, y_test)\n",
    "mse_elastic = mean_squared_error(elastic_model_predict,y_test)"
   ]
  },
  {
   "cell_type": "code",
   "execution_count": 76,
   "id": "31f2a4a7-10d9-4649-a39c-c648ea950792",
   "metadata": {},
   "outputs": [
    {
     "data": {
      "text/plain": [
       "(0.9463620320488341, 3.3158557251841274)"
      ]
     },
     "execution_count": 76,
     "metadata": {},
     "output_type": "execute_result"
    }
   ],
   "source": [
    "Score_elastic, mse_elastic"
   ]
  },
  {
   "cell_type": "code",
   "execution_count": 77,
   "id": "64778be1-5bc8-4e4d-8513-fc2acd32cf80",
   "metadata": {},
   "outputs": [],
   "source": [
    "import pickle"
   ]
  },
  {
   "cell_type": "code",
   "execution_count": 81,
   "id": "37e29bb9-7fab-4951-97d9-af693edf4d41",
   "metadata": {},
   "outputs": [],
   "source": [
    "pickle.dump(scaler, open('scaler.pik', 'wb'))\n",
    "pickle.dump(reg, open('reg.pik', 'wb'))"
   ]
  },
  {
   "cell_type": "code",
   "execution_count": null,
   "id": "d0965d4f-1235-4436-b2e4-de5a0f2ace6b",
   "metadata": {},
   "outputs": [],
   "source": []
  }
 ],
 "metadata": {
  "kernelspec": {
   "display_name": "Python 3 (ipykernel)",
   "language": "python",
   "name": "python3"
  },
  "language_info": {
   "codemirror_mode": {
    "name": "ipython",
    "version": 3
   },
   "file_extension": ".py",
   "mimetype": "text/x-python",
   "name": "python",
   "nbconvert_exporter": "python",
   "pygments_lexer": "ipython3",
   "version": "3.10.8"
  }
 },
 "nbformat": 4,
 "nbformat_minor": 5
}
